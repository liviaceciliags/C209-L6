{
 "cells": [
  {
   "cell_type": "markdown",
   "metadata": {},
   "source": [
    "# Trabalho de C209-L6"
   ]
  },
  {
   "cell_type": "markdown",
   "metadata": {},
   "source": [
    "Importação das Bibliotecas"
   ]
  },
  {
   "cell_type": "code",
   "execution_count": 3,
   "metadata": {},
   "outputs": [],
   "source": [
    "from moviepy.editor import VideoFileClip, concatenate_videoclips, vfx\n",
    "import numpy as np"
   ]
  },
  {
   "cell_type": "markdown",
   "metadata": {},
   "source": [
    "Carregar o Vídeo"
   ]
  },
  {
   "cell_type": "code",
   "execution_count": 4,
   "metadata": {},
   "outputs": [],
   "source": [
    "video = VideoFileClip(\"Trabalho.mp4\")\n",
    "\n"
   ]
  },
  {
   "cell_type": "markdown",
   "metadata": {},
   "source": [
    "Função para inverter o eixo da imagem"
   ]
  },
  {
   "cell_type": "code",
   "execution_count": 5,
   "metadata": {},
   "outputs": [],
   "source": [
    "def inverter_eixo(clip, eixo=\"horizontal\"):\n",
    "    if eixo == \"horizontal\":\n",
    "        return clip.fx(vfx.mirror_x)\n",
    "    elif eixo == \"vertical\":\n",
    "        return clip.fx(vfx.mirror_y)\n",
    "    else:\n",
    "        raise ValueError(\"O eixo deve ser 'horizontal' ou 'vertical'.\")\n"
   ]
  },
  {
   "cell_type": "markdown",
   "metadata": {},
   "source": [
    "Dividir o vídeo em segmentos de 20 segundos para inverter o eixo"
   ]
  },
  {
   "cell_type": "code",
   "execution_count": 6,
   "metadata": {},
   "outputs": [],
   "source": [
    "duration = video.duration\n",
    "segments = []\n",
    "for start in range(0, int(duration), 20):\n",
    "    end = min(start + 20, duration)\n",
    "    segment = video.subclip(start, end)\n",
    "    segment = inverter_eixo(segment, eixo=\"horizontal\" if (start // 20) % 2 == 0 else \"vertical\")\n",
    "    segments.append(segment)"
   ]
  },
  {
   "cell_type": "markdown",
   "metadata": {},
   "source": [
    "Concatenar os segmentos com a inversão do eixo"
   ]
  },
  {
   "cell_type": "code",
   "execution_count": 7,
   "metadata": {},
   "outputs": [],
   "source": [
    "video_invertido = concatenate_videoclips(segments)"
   ]
  },
  {
   "cell_type": "markdown",
   "metadata": {},
   "source": [
    "Função para aplicar redução e normalização do volume"
   ]
  },
  {
   "cell_type": "code",
   "execution_count": null,
   "metadata": {},
   "outputs": [],
   "source": [
    "def ajustar_volume_em_blocos(audio_clip, intervalo=30, silencio=10):\n",
    "    \"\"\"\n",
    "    Ajusta o volume em blocos de tempo. Cada bloco tem o volume diminuído\n",
    "    gradativamente nos últimos `silencio` segundos, e volta ao volume normal\n",
    "    no início do próximo bloco.\n",
    "    \"\"\"\n",
    "    def modificar_volume(get_frame, t):\n",
    "        t = np.array(t)  \n",
    "        bloco = np.floor(t / intervalo).astype(int)  \n",
    "        inicio_bloco = bloco * intervalo\n",
    "        fim_bloco = inicio_bloco + intervalo\n",
    "        fim_reducao = fim_bloco - silencio\n",
    "\n",
    "        volume = np.where(\n",
    "            t < fim_reducao,  \n",
    "            1,  \n",
    "            np.where(\n",
    "                t < fim_bloco,  \n",
    "                (fim_bloco - t) / silencio,  \n",
    "                0  \n",
    "            )\n",
    "        )\n",
    "        return get_frame(t) * volume[:, np.newaxis]\n",
    "\n",
    "    return audio_clip.fl(modificar_volume)"
   ]
  },
  {
   "cell_type": "markdown",
   "metadata": {},
   "source": [
    "Ajustar o áudio do vídeo com redução e normalização por blocos"
   ]
  },
  {
   "cell_type": "code",
   "execution_count": 9,
   "metadata": {},
   "outputs": [],
   "source": [
    "audio_ajustado = ajustar_volume_em_blocos(video_invertido.audio, intervalo=30, silencio=10)\n",
    "video_com_audio_ajustado = video_invertido.set_audio(audio_ajustado)"
   ]
  },
  {
   "cell_type": "markdown",
   "metadata": {},
   "source": [
    "Cortar do segundo 60 ao 80"
   ]
  },
  {
   "cell_type": "code",
   "execution_count": 10,
   "metadata": {},
   "outputs": [],
   "source": [
    "segmento_cortado = video_com_audio_ajustado.subclip(60, 80)\n"
   ]
  },
  {
   "cell_type": "markdown",
   "metadata": {},
   "source": [
    "Reorganizar o vídeo final"
   ]
  },
  {
   "cell_type": "code",
   "execution_count": 11,
   "metadata": {},
   "outputs": [],
   "source": [
    "video_final = concatenate_videoclips([\n",
    "    video_com_audio_ajustado.subclip(0, 60),\n",
    "    video_com_audio_ajustado.subclip(80, video_com_audio_ajustado.duration),\n",
    "    segmento_cortado\n",
    "])"
   ]
  },
  {
   "cell_type": "markdown",
   "metadata": {},
   "source": [
    "Exportar o Vídeo Final"
   ]
  },
  {
   "cell_type": "code",
   "execution_count": 12,
   "metadata": {},
   "outputs": [
    {
     "name": "stdout",
     "output_type": "stream",
     "text": [
      "Moviepy - Building video video_final.mp4.\n",
      "MoviePy - Writing audio in video_finalTEMP_MPY_wvf_snd.mp4\n"
     ]
    },
    {
     "name": "stderr",
     "output_type": "stream",
     "text": [
      "                                                                     \r"
     ]
    },
    {
     "name": "stdout",
     "output_type": "stream",
     "text": [
      "MoviePy - Done.\n",
      "Moviepy - Writing video video_final.mp4\n",
      "\n"
     ]
    },
    {
     "name": "stderr",
     "output_type": "stream",
     "text": [
      "                                                                \r"
     ]
    },
    {
     "name": "stdout",
     "output_type": "stream",
     "text": [
      "Moviepy - Done !\n",
      "Moviepy - video ready video_final.mp4\n"
     ]
    }
   ],
   "source": [
    "video_final.write_videofile(\"video_final.mp4\", codec=\"libx264\", audio_codec=\"aac\")\n"
   ]
  }
 ],
 "metadata": {
  "kernelspec": {
   "display_name": "Python 3",
   "language": "python",
   "name": "python3"
  },
  "language_info": {
   "codemirror_mode": {
    "name": "ipython",
    "version": 3
   },
   "file_extension": ".py",
   "mimetype": "text/x-python",
   "name": "python",
   "nbconvert_exporter": "python",
   "pygments_lexer": "ipython3",
   "version": "3.12.2"
  }
 },
 "nbformat": 4,
 "nbformat_minor": 2
}
